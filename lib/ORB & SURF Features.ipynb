{
 "cells": [
  {
   "cell_type": "markdown",
   "metadata": {},
   "source": [
    "# Neural Network classifier\n",
    " "
   ]
  },
  {
   "cell_type": "markdown",
   "metadata": {},
   "source": [
    "pwd()"
   ]
  },
  {
   "cell_type": "code",
   "execution_count": null,
   "metadata": {
    "collapsed": false
   },
   "outputs": [],
   "source": [
    "#Import libraries:\n",
    "import pandas as pd\n",
    "import numpy as np\n",
    "from sklearn.neural_network import MLPClassifier\n",
    "from sklearn import cross_validation, metrics   #Additional scklearn functions\n",
    "from sklearn.grid_search import GridSearchCV   #Performing grid search\n",
    "\n",
    "import matplotlib.pylab as plt\n",
    "%matplotlib inline\n",
    "from matplotlib.pylab import rcParams\n",
    "rcParams['figure.figsize'] = 12, 4\n",
    "\n",
    "train = pd.read_csv('/Users/Connie/Desktop/train.csv')\n",
    "test = pd.read_csv('/Users/Connie/Desktop/test.csv')\n",
    "target = 'y' #this is y\n",
    "IDcol = 'ID'"
   ]
  },
  {
   "cell_type": "code",
   "execution_count": null,
   "metadata": {
    "collapsed": false
   },
   "outputs": [],
   "source": [
    "#Functions for building the model\n",
    "def modelfit(alg, dtrain, dtest, predictors, performCV=True, printFeatureImportance=True, cv_folds=5):\n",
    "    #Fit the algorithm on the data\n",
    "    alg.fit(dtrain[predictors], dtrain['y'])\n",
    "        \n",
    "    #Predict training set:\n",
    "    dtrain_predictions = alg.predict(dtrain[predictors])\n",
    "    #dtrain_predprob = alg.predict_proba(dtrain[predictors])[:,1]\n",
    "    dtest_predictions = alg.predict(dtest[predictors])\n",
    "    \n",
    "    #Perform cross-validation:\n",
    "    if performCV:\n",
    "        cv_score = cross_validation.cross_val_score(alg, dtrain[predictors], dtrain['y'], cv=cv_folds, scoring='roc_auc')\n",
    "    \n",
    "    #Print model report:\n",
    "    print (\"\\nModel Report\")\n",
    "    print (\"Accuracy(train): %.4g\" % metrics.accuracy_score(dtrain['y'].values, dtrain_predictions))\n",
    "    print (\"Accuracy(test) : %.4g\" % metrics.accuracy_score(dtest['y'].values, dtest_predictions))\n",
    "    #print (\"AUC Score (Train): %f\" % metrics.roc_auc_score(dtrain['y'], dtrain_predprob))\n",
    "    \n",
    "    if performCV:\n",
    "        print (\"CV Score : Mean - %.7g | Std - %.7g | Min - %.7g | Max - %.7g\" % (np.mean(cv_score),np.std(cv_score),np.min(cv_score),np.max(cv_score)))"
   ]
  },
  {
   "cell_type": "code",
   "execution_count": null,
   "metadata": {
    "collapsed": false
   },
   "outputs": [],
   "source": [
    "predictors = [x for x in train.columns if x not in [target, IDcol]]\n",
    "pa = MLPClassifier(hidden_layer_sizes=(20, ), activation='relu', solver='adam', alpha=0.0001, \n",
    "                    batch_size='auto', learning_rate='constant', learning_rate_init=0.001, power_t=0.5, max_iter=18, \n",
    "                    shuffle=False, random_state=10, tol=0.0001, verbose=False, warm_start=False, momentum=0.9,\n",
    "                    nesterovs_momentum=True, early_stopping=False, validation_fraction=0.1, \n",
    "                    beta_1=0.9, beta_2=0.999, epsilon=1e-08)\n",
    "modelfit(pa, train,test, predictors)#train : 90% test: 88%"
   ]
  },
  {
   "cell_type": "markdown",
   "metadata": {},
   "source": [
    "# ORB Features"
   ]
  },
  {
   "cell_type": "code",
   "execution_count": 9,
   "metadata": {
    "collapsed": false
   },
   "outputs": [
    {
     "ename": "ImportError",
     "evalue": "No module named 'cv2'",
     "output_type": "error",
     "traceback": [
      "\u001b[0;31m---------------------------------------------------------------------------\u001b[0m",
      "\u001b[0;31mImportError\u001b[0m                               Traceback (most recent call last)",
      "\u001b[0;32m<ipython-input-9-f8f950adbecb>\u001b[0m in \u001b[0;36m<module>\u001b[0;34m()\u001b[0m\n\u001b[1;32m      1\u001b[0m \u001b[0;32mimport\u001b[0m \u001b[0mnumpy\u001b[0m \u001b[0;32mas\u001b[0m \u001b[0mnp\u001b[0m\u001b[0;34m\u001b[0m\u001b[0m\n\u001b[0;32m----> 2\u001b[0;31m \u001b[0;32mimport\u001b[0m \u001b[0mcv2\u001b[0m\u001b[0;34m\u001b[0m\u001b[0m\n\u001b[0m\u001b[1;32m      3\u001b[0m \u001b[0;32mfrom\u001b[0m \u001b[0mmatplotlib\u001b[0m \u001b[0;32mimport\u001b[0m \u001b[0mpyplot\u001b[0m \u001b[0;32mas\u001b[0m \u001b[0mplt\u001b[0m\u001b[0;34m\u001b[0m\u001b[0m\n\u001b[1;32m      4\u001b[0m \u001b[0;34m\u001b[0m\u001b[0m\n\u001b[1;32m      5\u001b[0m \u001b[0;32mimport\u001b[0m \u001b[0mmatplotlib\u001b[0m\u001b[0;34m.\u001b[0m\u001b[0mpylab\u001b[0m \u001b[0;32mas\u001b[0m \u001b[0mplt\u001b[0m\u001b[0;34m\u001b[0m\u001b[0m\n",
      "\u001b[0;31mImportError\u001b[0m: No module named 'cv2'"
     ]
    }
   ],
   "source": [
    "import numpy as np\n",
    "import cv2\n",
    "from matplotlib import pyplot as plt\n",
    "\n",
    "import matplotlib.pylab as plt\n",
    "%matplotlib inline\n",
    "from matplotlib.pylab import rcParams\n",
    "rcParams['figure.figsize'] = 12, 4\n",
    "\n",
    "train = pd.read_csv('/Users/Connie/Desktop/train.csv')\n",
    "test = pd.read_csv('/Users/Connie/Desktop/test.csv')\n",
    "target = 'y' #this is y\n",
    "IDcol = 'ID'\n",
    "\n",
    "img = cv2.imread('simple.jpg',0)\n",
    "\n",
    "# Initiate STAR detector\n",
    "orb = cv2.ORB()\n",
    "\n",
    "# find the keypoints with ORB\n",
    "kp = orb.detect(img,None)\n",
    "\n",
    "# compute the descriptors with ORB\n",
    "kp, des = orb.compute(img, kp)\n",
    "\n",
    "# draw only keypoints location,not size and orientation\n",
    "img2 = cv2.drawKeypoints(img,kp,color=(0,255,0), flags=0)\n",
    "plt.imshow(img2),plt.show()"
   ]
  },
  {
   "cell_type": "raw",
   "metadata": {},
   "source": [
    "#SURF Features"
   ]
  },
  {
   "cell_type": "code",
   "execution_count": 10,
   "metadata": {
    "collapsed": false
   },
   "outputs": [
    {
     "ename": "SyntaxError",
     "evalue": "Missing parentheses in call to 'print' (<ipython-input-10-e27d5ec9cb3f>, line 34)",
     "output_type": "error",
     "traceback": [
      "\u001b[0;36m  File \u001b[0;32m\"<ipython-input-10-e27d5ec9cb3f>\"\u001b[0;36m, line \u001b[0;32m34\u001b[0m\n\u001b[0;31m    print dist\u001b[0m\n\u001b[0m             ^\u001b[0m\n\u001b[0;31mSyntaxError\u001b[0m\u001b[0;31m:\u001b[0m Missing parentheses in call to 'print'\n"
     ]
    }
   ],
   "source": [
    "import cv2\n",
    "import numpy\n",
    "\n",
    "opencv_haystack =cv2.imread('haystack.jpg')\n",
    "opencv_needle =cv2.imread('needle.jpg')\n",
    "\n",
    "ngrey = cv2.cvtColor(opencv_needle, cv2.COLOR_BGR2GRAY)\n",
    "hgrey = cv2.cvtColor(opencv_haystack, cv2.COLOR_BGR2GRAY)\n",
    "\n",
    "# build feature detector and descriptor extractor\n",
    "hessian_threshold = 85\n",
    "detector = cv2.SURF(hessian_threshold)\n",
    "(hkeypoints, hdescriptors) = detector.detect(hgrey, None, useProvidedKeypoints = False)\n",
    "(nkeypoints, ndescriptors) = detector.detect(ngrey, None, useProvidedKeypoints = False)\n",
    "\n",
    "# extract vectors of size 64 from raw descriptors numpy arrays\n",
    "rowsize = len(hdescriptors) / len(hkeypoints)\n",
    "if rowsize > 1:\n",
    "    hrows = numpy.array(hdescriptors, dtype = numpy.float32).reshape((-1, rowsize))\n",
    "    nrows = numpy.array(ndescriptors, dtype = numpy.float32).reshape((-1, rowsize))\n",
    "    #print hrows.shape, nrows.shape\n",
    "else:\n",
    "    hrows = numpy.array(hdescriptors, dtype = numpy.float32)\n",
    "    nrows = numpy.array(ndescriptors, dtype = numpy.float32)\n",
    "    rowsize = len(hrows[0])\n",
    "\n",
    "# kNN training - learn mapping from hrow to hkeypoints index\n",
    "samples = hrows\n",
    "responses = numpy.arange(len(hkeypoints), dtype = numpy.float32)\n",
    "#print len(samples), len(responses)\n",
    "knn = cv2.KNearest()\n",
    "knn.train(samples,responses)\n",
    "\n",
    "# retrieve index and value through enumeration\n",
    "for i, descriptor in enumerate(nrows):\n",
    "    descriptor = numpy.array(descriptor, dtype = numpy.float32).reshape((1, rowsize))\n",
    "    #print i, descriptor.shape, samples[0].shape\n",
    "    retval, results, neigh_resp, dists = knn.find_nearest(descriptor, 1)\n",
    "    res, dist =  int(results[0][0]), dists[0][0]\n",
    "    #print res, dist\n",
    "\n",
    "    if dist < 0.1:\n",
    "        # draw matched keypoints in red color\n",
    "        color = (0, 0, 255)\n",
    "    else:\n",
    "        # draw unmatched in blue color\n",
    "        color = (255, 0, 0)\n",
    "    # draw matched key points on haystack image\n",
    "    x,y = hkeypoints[res].pt\n",
    "    center = (int(x),int(y))\n",
    "    cv2.circle(opencv_haystack,center,2,color,-1)\n",
    "    # draw matched key points on needle image\n",
    "    x,y = nkeypoints[i].pt\n",
    "    center = (int(x),int(y))\n",
    "    cv2.circle(opencv_needle,center,2,color,-1)\n",
    "\n",
    "cv2.imshow('haystack',opencv_haystack)\n",
    "cv2.imshow('needle',opencv_needle)\n",
    "cv2.waitKey(0)\n",
    "cv2.destroyAllWindows()"
   ]
  },
  {
   "cell_type": "code",
   "execution_count": null,
   "metadata": {
    "collapsed": false
   },
   "outputs": [],
   "source": []
  }
 ],
 "metadata": {
  "anaconda-cloud": {},
  "kernelspec": {
   "display_name": "Python [conda root]",
   "language": "python",
   "name": "conda-root-py"
  },
  "language_info": {
   "codemirror_mode": {
    "name": "ipython",
    "version": 3
   },
   "file_extension": ".py",
   "mimetype": "text/x-python",
   "name": "python",
   "nbconvert_exporter": "python",
   "pygments_lexer": "ipython3",
   "version": "3.5.2"
  }
 },
 "nbformat": 4,
 "nbformat_minor": 0
}
